{
 "cells": [
  {
   "cell_type": "code",
   "execution_count": 1,
   "id": "95960944",
   "metadata": {},
   "outputs": [],
   "source": [
    "import pandas as pd\n",
    "import os"
   ]
  },
  {
   "cell_type": "code",
   "execution_count": 2,
   "id": "0eba7202",
   "metadata": {},
   "outputs": [],
   "source": [
    "folder_path = '/Users/nicholasfarkas/Downloads/Projects/DPD-Traffic-Safety/viz/traffic_volumes'"
   ]
  },
  {
   "cell_type": "code",
   "execution_count": 3,
   "id": "0e81b6f3",
   "metadata": {},
   "outputs": [],
   "source": [
    "csv_files = [file for file in os.listdir(folder_path) if file.endswith('.csv')]"
   ]
  },
  {
   "cell_type": "code",
   "execution_count": 4,
   "id": "a20764e0",
   "metadata": {},
   "outputs": [],
   "source": [
    "# Create an empty list to store the dataframes\n",
    "dfs = []\n",
    "\n",
    "# Read each csv file into a dataframe and append it to the list\n",
    "for file in csv_files:\n",
    "    file_path = os.path.join(folder_path, file)\n",
    "    df = pd.read_csv(file_path)\n",
    "    dfs.append(df)"
   ]
  },
  {
   "cell_type": "code",
   "execution_count": 5,
   "id": "1c58ce94",
   "metadata": {},
   "outputs": [],
   "source": [
    "# Concatenate all dataframes in the list\n",
    "merged_df = pd.concat(dfs, ignore_index=True)"
   ]
  },
  {
   "cell_type": "code",
   "execution_count": 6,
   "id": "cebc642c",
   "metadata": {},
   "outputs": [],
   "source": [
    "# Save the merged dataframe to a new csv\n",
    "merged_df.to_csv('yearly_traffic_volume_2017-2023.csv', index=False)"
   ]
  }
 ],
 "metadata": {
  "kernelspec": {
   "display_name": "Python 3",
   "language": "python",
   "name": "python3"
  },
  "language_info": {
   "codemirror_mode": {
    "name": "ipython",
    "version": 3
   },
   "file_extension": ".py",
   "mimetype": "text/x-python",
   "name": "python",
   "nbconvert_exporter": "python",
   "pygments_lexer": "ipython3",
   "version": "3.13.3"
  }
 },
 "nbformat": 4,
 "nbformat_minor": 5
}
