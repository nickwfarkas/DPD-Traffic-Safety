{
 "cells": [
  {
   "cell_type": "code",
   "execution_count": 1,
   "metadata": {},
   "outputs": [],
   "source": [
    "import pandas as pd"
   ]
  },
  {
   "cell_type": "code",
   "execution_count": 4,
   "metadata": {},
   "outputs": [
    {
     "name": "stderr",
     "output_type": "stream",
     "text": [
      "/var/folders/_h/hm4whgn109v7shcjkyc9sgqm0000gn/T/ipykernel_1815/623116592.py:1: DtypeWarning: Columns (52) have mixed types. Specify dtype option on import or set low_memory=False.\n",
      "  df = pd.read_csv(\"crash2023_10year_6297199761245159897.csv\")\n"
     ]
    }
   ],
   "source": [
    "df = pd.read_csv(\"crash2023_10year_6297199761245159897.csv\")"
   ]
  },
  {
   "cell_type": "code",
   "execution_count": 5,
   "metadata": {},
   "outputs": [
    {
     "data": {
      "text/plain": [
       "(1342162, 70)"
      ]
     },
     "execution_count": 5,
     "metadata": {},
     "output_type": "execute_result"
    }
   ],
   "source": [
    "df.shape"
   ]
  },
  {
   "cell_type": "code",
   "execution_count": 19,
   "metadata": {},
   "outputs": [],
   "source": [
    "df_2023 = df[df['YEAR'] == 2023]\n",
    "df_2023_detroit = df_2023[df_2023['community'] == 'Detroit']"
   ]
  },
  {
   "cell_type": "code",
   "execution_count": 20,
   "metadata": {},
   "outputs": [
    {
     "name": "stderr",
     "output_type": "stream",
     "text": [
      "/var/folders/_h/hm4whgn109v7shcjkyc9sgqm0000gn/T/ipykernel_27099/1817140349.py:1: SettingWithCopyWarning: \n",
      "A value is trying to be set on a copy of a slice from a DataFrame.\n",
      "Try using .loc[row_indexer,col_indexer] = value instead\n",
      "\n",
      "See the caveats in the documentation: https://pandas.pydata.org/pandas-docs/stable/user_guide/indexing.html#returning-a-view-versus-a-copy\n",
      "  df_2023_detroit['Under the Influence'] = df_2023_detroit['ALCOHOL'] + df_2023_detroit['DRUG']\n",
      "/var/folders/_h/hm4whgn109v7shcjkyc9sgqm0000gn/T/ipykernel_27099/1817140349.py:3: SettingWithCopyWarning: \n",
      "A value is trying to be set on a copy of a slice from a DataFrame.\n",
      "Try using .loc[row_indexer,col_indexer] = value instead\n",
      "\n",
      "See the caveats in the documentation: https://pandas.pydata.org/pandas-docs/stable/user_guide/indexing.html#returning-a-view-versus-a-copy\n",
      "  df_2023_detroit['Under the Influence'] = df_2023_detroit['Under the Influence'].map({0: False, 1: True})\n"
     ]
    }
   ],
   "source": [
    "df_2023_detroit['Under the Influence'] = df_2023_detroit['ALCOHOL'] + df_2023_detroit['DRUG']\n",
    "# make true or false\n",
    "df_2023_detroit['Under the Influence'] = df_2023_detroit['Under the Influence'].map({0: False, 1: True})\n",
    "# drop the original columns\n",
    "df_2023_detroit = df_2023_detroit.drop(columns=['ALCOHOL', 'DRUG'])"
   ]
  },
  {
   "cell_type": "code",
   "execution_count": 21,
   "metadata": {},
   "outputs": [],
   "source": [
    "df_2023_detroit['Age Group'] = df_2023_detroit['ELDERLY']\n",
    "# make true or false\n",
    "df_2023_detroit['Age Group'] = df_2023_detroit['Age Group'].map({0: 'Young', 1: 'Elderly'})\n",
    "\n",
    "# drop the original columns\n",
    "df_2023_detroit = df_2023_detroit.drop(columns=['ELDERLY', 'YOUNG'])"
   ]
  },
  {
   "cell_type": "code",
   "execution_count": null,
   "metadata": {},
   "outputs": [],
   "source": [
    "\n",
    "Enumerated Domain Value: 5\n",
    "Enumerated Domain Value Definition: Rear End"
   ]
  },
  {
   "cell_type": "code",
   "execution_count": null,
   "metadata": {},
   "outputs": [],
   "source": [
    "# https://www.arcgis.com/sharing/rest/content/items/274409217c56477288b0f7b743554e41/info/metadata/metadata.xml?format=default&output=html\n",
    "crash_type_mapping = {\n",
    "    1: 'Single Motor Vehicle',\n",
    "    2: 'Head On',\n",
    "    3: 'Head On-Left Turn',\n",
    "    4: 'Angle',\n",
    "    5: 'Rear End',\n",
    "    6: 'Rear End-Left Turn',\n",
    "    7: 'Rear End-Right Turn',\n",
    "    8: 'Sideswipe-Same',\n",
    "    9: 'Sideswipe-Opposite',\n",
    "    10: 'Backing',\n",
    "    97: 'Other',\n",
    "    98: 'Unknown'\n",
    "}\n",
    "\n",
    "\n",
    "df_2023_detroit['Crash Type'] = df_2023_detroit['CRSHTYPEO']\n",
    "# make true or false\n",
    "df_2023_detroit['Crash Type'] = df_2023_detroit['Crash Type'].map(crash_type_mapping)\n",
    "\n",
    "# drop the original columns\n",
    "df_2023_detroit = df_2023_detroit.drop(columns=['CRSHTYPEO'])"
   ]
  },
  {
   "cell_type": "code",
   "execution_count": null,
   "metadata": {},
   "outputs": [],
   "source": [
    "# Create Tableau Calculated Field for 'Crash Type'"
   ]
  },
  {
   "cell_type": "code",
   "execution_count": 22,
   "metadata": {},
   "outputs": [],
   "source": [
    "df_2023_detroit = df_2023_detroit.drop(columns=['OBJECTID','JURIS', 'PROPDAMG', 'KCOUNT', 'ACOUNT', 'BCOUNT',\n",
    "       'CCOUNT','INTR_INVL_IND', 'SEMMCD', 'PR', 'MP',\n",
    "       'TIME_FULL', 'cntname', 'community', 'NFC', 'SECONDARY'])"
   ]
  },
  {
   "cell_type": "code",
   "execution_count": 23,
   "metadata": {},
   "outputs": [],
   "source": [
    "df_2023_detroit.columns = df_2023_detroit.columns.str.title()"
   ]
  },
  {
   "cell_type": "code",
   "execution_count": 25,
   "metadata": {},
   "outputs": [],
   "source": [
    "# Convert dataframe to excel\n",
    "df_2023_detroit.to_excel('df_2023_detroit_crashes.xlsx', index=False)"
   ]
  }
 ],
 "metadata": {
  "kernelspec": {
   "display_name": "env",
   "language": "python",
   "name": "python3"
  },
  "language_info": {
   "codemirror_mode": {
    "name": "ipython",
    "version": 3
   },
   "file_extension": ".py",
   "mimetype": "text/x-python",
   "name": "python",
   "nbconvert_exporter": "python",
   "pygments_lexer": "ipython3",
   "version": "3.13.3"
  }
 },
 "nbformat": 4,
 "nbformat_minor": 2
}
