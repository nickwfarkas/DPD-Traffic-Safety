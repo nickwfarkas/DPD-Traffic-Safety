{
 "cells": [
  {
   "cell_type": "code",
   "execution_count": 3,
   "id": "95960944",
   "metadata": {},
   "outputs": [],
   "source": [
    "import pandas as pd\n",
    "import os\n",
    "import re"
   ]
  },
  {
   "cell_type": "code",
   "execution_count": 4,
   "id": "0eba7202",
   "metadata": {},
   "outputs": [],
   "source": [
    "folder_path = '/Users/nicholasfarkas/Downloads/Projects/DPD-Traffic-Safety/viz/traffic_volumes/data'"
   ]
  },
  {
   "cell_type": "code",
   "execution_count": 5,
   "id": "8ef297d5",
   "metadata": {},
   "outputs": [],
   "source": [
    "csv_files = [file for file in os.listdir(folder_path) if file.endswith('.csv')]"
   ]
  },
  {
   "cell_type": "code",
   "execution_count": 6,
   "id": "56b4b2ac",
   "metadata": {},
   "outputs": [],
   "source": [
    "dfs = []\n",
    "for file in csv_files:\n",
    "    file_path = os.path.join(folder_path, file)\n",
    "    df = pd.read_csv(file_path)\n",
    "    \n",
    "    # Extract year from filename using regex\n",
    "    # This pattern looks for 4 consecutive digits (assumed to be a year)\n",
    "    year_match = re.search(r'(\\d{4})', file)\n",
    "    \n",
    "    if year_match:\n",
    "        year = int(year_match.group(1))\n",
    "    else:\n",
    "        # If no 4-digit year found, try to extract from end of filename\n",
    "        # Remove .csv extension and look for numbers at the end\n",
    "        filename_without_ext = os.path.splitext(file)[0]\n",
    "        year_match = re.search(r'(\\d+)$', filename_without_ext)\n",
    "        \n",
    "        if year_match:\n",
    "            potential_year = int(year_match.group(1))\n",
    "            # Validate that it's a reasonable year (between 1900 and 2100)\n",
    "            if 1900 <= potential_year <= 2100:\n",
    "                year = potential_year\n",
    "            else:\n",
    "                year = None\n",
    "                print(f\"Warning: Could not extract valid year from filename '{file}'\")\n",
    "        else:\n",
    "            year = None\n",
    "            print(f\"Warning: Could not extract year from filename '{file}'\")\n",
    "    \n",
    "    # Add year column to the dataframe\n",
    "    df['year'] = year\n",
    "    dfs.append(df)"
   ]
  },
  {
   "cell_type": "code",
   "execution_count": 7,
   "id": "1c58ce94",
   "metadata": {},
   "outputs": [],
   "source": [
    "# Concatenate all dataframes in the list\n",
    "merged_df = pd.concat(dfs, ignore_index=True)"
   ]
  },
  {
   "cell_type": "code",
   "execution_count": 8,
   "id": "cebc642c",
   "metadata": {},
   "outputs": [],
   "source": [
    "# Save the merged dataframe to a new csv\n",
    "merged_df.to_csv('yearly_traffic_volume_2017-2023.csv', index=False)"
   ]
  }
 ],
 "metadata": {
  "kernelspec": {
   "display_name": "Python 3",
   "language": "python",
   "name": "python3"
  },
  "language_info": {
   "codemirror_mode": {
    "name": "ipython",
    "version": 3
   },
   "file_extension": ".py",
   "mimetype": "text/x-python",
   "name": "python",
   "nbconvert_exporter": "python",
   "pygments_lexer": "ipython3",
   "version": "3.13.3"
  }
 },
 "nbformat": 4,
 "nbformat_minor": 5
}
